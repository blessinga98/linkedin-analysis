{
 "cells": [
  {
   "cell_type": "code",
   "execution_count": 1,
   "metadata": {},
   "outputs": [],
   "source": [
    "from selenium import webdriver\n",
    "from selenium.webdriver.common.keys import Keys"
   ]
  },
  {
   "cell_type": "code",
   "execution_count": 4,
   "metadata": {},
   "outputs": [],
   "source": [
    "# OPEN CHROME BROWSER\n",
    "browser = webdriver.Chrome(\"C:/chromedriver\")"
   ]
  },
  {
   "cell_type": "code",
   "execution_count": 88,
   "metadata": {},
   "outputs": [],
   "source": [
    "# GO TO URL\n",
    "browser.get(\"https://www.linkedin.com/in/bryantjy/\")"
   ]
  },
  {
   "cell_type": "code",
   "execution_count": 89,
   "metadata": {},
   "outputs": [
    {
     "name": "stdout",
     "output_type": "stream",
     "text": [
      "Bryan Tan Jun Yu\n",
      "Student at Singapore Institute of Technology\n",
      "Singapore\n",
      "25 connections\n",
      "Willing to learn and explore new technologies\n"
     ]
    }
   ],
   "source": [
    "# GET NAME\n",
    "name = browser.find_element_by_xpath(\"//h1[@class='top-card-layout__title']\").text\n",
    "# GET HEADLINE\n",
    "headline = browser.find_element_by_xpath(\"//h2[@class='top-card-layout__headline']\").text\n",
    "# GET LOCATION\n",
    "country = browser.find_element_by_xpath(\"//span[@class='top-card__subline-item']\").text\n",
    "# GET NUMBER OF CONNECTIONS\n",
    "no_of_connections = browser.find_element_by_xpath(\"//span[@class='top-card__subline-item top-card__subline-item--bullet']\").text\n",
    "# GET DESCRIPTION\n",
    "try:\n",
    "    about = browser.find_element_by_xpath(\"//section[@class='summary pp-section']/p\").text\n",
    "except:\n",
    "    about = \"Nil\"\n",
    "\n",
    "print(name)\n",
    "print(headline)\n",
    "print(country)\n",
    "print(no_of_connections)\n",
    "print(about)"
   ]
  },
  {
   "cell_type": "code",
   "execution_count": 90,
   "metadata": {},
   "outputs": [],
   "source": [
    "# GET LIST OF EXPERIENCE\n",
    "experience_list = browser.find_elements_by_xpath(\"//ul[@class='experience__list']/li\")"
   ]
  },
  {
   "cell_type": "code",
   "execution_count": 91,
   "metadata": {},
   "outputs": [
    {
     "name": "stdout",
     "output_type": "stream",
     "text": [
      "Intern\n",
      "NCS Group\n",
      "May 2019 - Present\n",
      "---------------------------\n",
      "Senior Military Expert\n",
      "Singapore Armed Forces (SAF)\n",
      "Jun 2017 - Present\n",
      "---------------------------\n",
      "Military Expert\n",
      "Singapore Armed Forces (SAF)\n",
      "Jan 2015 - Jun 2017\n",
      "---------------------------\n"
     ]
    }
   ],
   "source": [
    "for i in range(1, len(experience_list)+1):\n",
    "    if(browser.find_element_by_xpath(\"//ul[@class='experience__list']/li\"+\"[\"+str(i)+\"]\").get_attribute('class') == 'result-card experience-item'):\n",
    "        title = browser.find_element_by_xpath(\"//ul[@class='experience__list']/li\"+\"[\"+str(i)+\"]/div/h3\").text\n",
    "        company = browser.find_element_by_xpath(\"//ul[@class='experience__list']/li\"+\"[\"+str(i)+\"]/div/h4/a\").text\n",
    "        start = browser.find_element_by_xpath(\"//ul[@class='experience__list']/li\"+\"[\"+str(i)+\"]/div/div/p/span/time[@class='date-range__start-date']\").text\n",
    "        try:\n",
    "            end = browser.find_element_by_xpath(\"//ul[@class='experience__list']/li\"+\"[\"+str(i)+\"]/div/div/p/span/time[@class='date-range__end-date']\").text\n",
    "        except:\n",
    "            end = \"Present\"\n",
    "        duration = start + \" - \" + end\n",
    "        #description = browser.find_element_by_xpath(\"//ul[@class='experience__list']/li\"+\"[\"+str(i)+\"]/div/div/div/div/span\").text\n",
    "        print(title)\n",
    "        print(company)\n",
    "        print(duration)\n",
    "        #print(description)\n",
    "        print(\"---------------------------\")\n",
    "    else:\n",
    "        number_of_titles = len(browser.find_elements_by_xpath(\"//ul[@class='experience__list']/li\"+\"[\"+str(i)+\"]/ul/li\"))\n",
    "        for j in range(1, number_of_titles+1):\n",
    "            title = browser.find_element_by_xpath(\"//ul[@class='experience__list']/li\"+\"[\"+str(i)+\"]/ul/li\"+\"[\"+str(j)+\"]/div/h3\").text\n",
    "            company = browser.find_element_by_xpath(\"//ul[@class='experience__list']/li\"+\"[\"+str(i)+\"]/ul/li\"+\"[\"+str(j)+\"]/a/img\").get_attribute('alt')\n",
    "            start = browser.find_element_by_xpath(\"//ul[@class='experience__list']/li\"+\"[\"+str(i)+\"]/ul/li\"+\"[\"+str(j)+\"]/div/div/p/span/time[@class='date-range__start-date']\").text\n",
    "            try:\n",
    "                end = browser.find_element_by_xpath(\"//ul[@class='experience__list']/li\"+\"[\"+str(i)+\"]/ul/li\"+\"[\"+str(j)+\"]/div/div/p/span/time[@class='date-range__end-date']\").text\n",
    "            except:\n",
    "                end = \"Present\"\n",
    "            duration = start + \" - \" + end\n",
    "            print(title)\n",
    "            print(company)\n",
    "            print(duration)\n",
    "            print(\"---------------------------\")"
   ]
  },
  {
   "cell_type": "code",
   "execution_count": 92,
   "metadata": {},
   "outputs": [],
   "source": [
    "# GET LIST OF EDUCATION\n",
    "education_list = browser.find_elements_by_xpath(\"//ul[@class='education__list']/li\")"
   ]
  },
  {
   "cell_type": "code",
   "execution_count": 93,
   "metadata": {},
   "outputs": [
    {
     "name": "stdout",
     "output_type": "stream",
     "text": [
      "Singapore Institute of Technology\n",
      "Bachelor of Engineering - BEng\n",
      "Telematics (Intelligent Transportation Systems)\n",
      "Currently Honours with Highest Distinction\n",
      "2017 - 2020\n",
      "-------------------------------\n",
      "Nanyang Technological University\n",
      "Undergraduate Professional Military Education and Training (UGPMET)\n",
      "Military Leadership and Military Studies\n",
      "Nil\n",
      "2018 - 2018\n",
      "-------------------------------\n",
      "Temasek Polytechnic\n",
      "Diploma\n",
      "Mechatronics, Robotics\n",
      "Nil\n",
      "2011 - 2014\n",
      "-------------------------------\n",
      "Ahmad Ibrahim Secondary School\n",
      "Nil\n",
      "Nil\n",
      "Nil\n",
      "2007 - 2010\n",
      "-------------------------------\n"
     ]
    }
   ],
   "source": [
    "for i in range(1, len(education_list)+1):\n",
    "    school = browser.find_element_by_xpath(\"//ul[@class='education__list']/li\"+\"[\"+str(i)+\"]/div/h3\").text\n",
    "    try:\n",
    "        education_title = browser.find_element_by_xpath(\"//ul[@class='education__list']/li\"+\"[\"+str(i)+\"]/div/h4/span[1]\").text\n",
    "    except:\n",
    "        education_title = \"Nil\"\n",
    "    try:\n",
    "        course = browser.find_element_by_xpath(\"//ul[@class='education__list']/li\"+\"[\"+str(i)+\"]/div/h4/span[2]\").text\n",
    "    except:\n",
    "        course = \"Nil\"\n",
    "    try:\n",
    "        grades = browser.find_element_by_xpath(\"//ul[@class='education__list']/li\"+\"[\"+str(i)+\"]/div/h4/span[3]\").text\n",
    "    except:\n",
    "        grades = \"Nil\"\n",
    "    start = browser.find_element_by_xpath(\"//ul[@class='education__list']/li\"+\"[\"+str(i)+\"]/div/div/p/span/time[@class='date-range__start-date']\").text\n",
    "    try:\n",
    "        end = browser.find_element_by_xpath(\"//ul[@class='education__list']/li\"+\"[\"+str(i)+\"]/div/div/p/span/time[@class='date-range__end-date']\").text\n",
    "    except:\n",
    "        end = \"Present\"\n",
    "    duration = start + \" - \" + end\n",
    "    print(school)\n",
    "    print(education_title)\n",
    "    print(course)\n",
    "    print(grades)\n",
    "    print(duration)\n",
    "    print(\"-------------------------------\")"
   ]
  },
  {
   "cell_type": "code",
   "execution_count": null,
   "metadata": {},
   "outputs": [],
   "source": []
  }
 ],
 "metadata": {
  "kernelspec": {
   "display_name": "Python 3",
   "language": "python",
   "name": "python3"
  },
  "language_info": {
   "codemirror_mode": {
    "name": "ipython",
    "version": 3
   },
   "file_extension": ".py",
   "mimetype": "text/x-python",
   "name": "python",
   "nbconvert_exporter": "python",
   "pygments_lexer": "ipython3",
   "version": "3.6.8"
  }
 },
 "nbformat": 4,
 "nbformat_minor": 2
}
