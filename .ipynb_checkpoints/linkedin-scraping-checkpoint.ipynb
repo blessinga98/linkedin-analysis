{
 "cells": [
  {
   "cell_type": "code",
   "execution_count": 1,
   "metadata": {},
   "outputs": [],
   "source": [
    "from selenium import webdriver\n",
    "from selenium.webdriver.common.keys import Keys\n",
    "\n",
    "import time"
   ]
  },
  {
   "cell_type": "code",
   "execution_count": 2,
   "metadata": {},
   "outputs": [],
   "source": [
    "# OPEN CHROME BROWSER\n",
    "browser = webdriver.Chrome(\"C:/chromedriver\")"
   ]
  },
  {
   "cell_type": "code",
   "execution_count": 5,
   "metadata": {},
   "outputs": [
    {
     "name": "stdout",
     "output_type": "stream",
     "text": [
      "Number of urls:  902\n"
     ]
    }
   ],
   "source": [
    "# LOAD PROFILE URLS FROM FILE\n",
    "urls = [line.rstrip('\\n') for line in open(\"linkedin_profile_urls.txt\")]\n",
    "print(\"Number of urls: \", len(urls))"
   ]
  },
  {
   "cell_type": "code",
   "execution_count": 6,
   "metadata": {},
   "outputs": [
    {
     "name": "stdout",
     "output_type": "stream",
     "text": [
      "Number of urls:  590\n"
     ]
    }
   ],
   "source": [
    "# REMOVE DUPLICATE URLS\n",
    "urls = list(dict.fromkeys(urls))\n",
    "print(\"Number of urls: \", len(urls))"
   ]
  },
  {
   "cell_type": "code",
   "execution_count": 49,
   "metadata": {},
   "outputs": [],
   "source": [
    "# GO TO URL\n",
    "browser.get(urls[70])"
   ]
  },
  {
   "cell_type": "code",
   "execution_count": 96,
   "metadata": {},
   "outputs": [],
   "source": [
    "'''\n",
    "# LOGIN\n",
    "sign_in_btn = browser.find_element_by_xpath(\"//a[@data-tracking-control-name='public_profile_nav-header-signin']\")\n",
    "sign_in_btn.click()\n",
    "username = browser.find_element_by_xpath(\"//input[@id='username']\")\n",
    "username.send_keys(\"ENTER USERNAME\")\n",
    "password = browser.find_element_by_xpath(\"//input[@id='password']\")\n",
    "password.send_keys(\"ENTER PASSWORD\")\n",
    "submit_btn = browser.find_element_by_xpath(\"//button[@class='btn__primary--large from__button--floating']\")\n",
    "submit_btn.click()"
   ]
  },
  {
   "cell_type": "code",
   "execution_count": 50,
   "metadata": {},
   "outputs": [
    {
     "name": "stdout",
     "output_type": "stream",
     "text": [
      "Ivan Ang\n",
      "Data Science | Project Management\n",
      "Singapore\n",
      "500+ connections\n",
      "Skilled in Python, SAS, SQL, for Data Science.\n",
      "\n",
      "Experience with VBA, MATLAB, C, C++, and ANSYS 3D Modeling. Experienced Project Manager with a demonstrated history of organization management. Strong community professional with a Bachelor Of Engineering focused in Aerospace System\n"
     ]
    }
   ],
   "source": [
    "# GET NAME\n",
    "name = browser.find_element_by_xpath(\"//li[@class='inline t-24 t-black t-normal break-words']\").text\n",
    "# GET HEADLINE\n",
    "headline = browser.find_element_by_xpath(\"//h2[@class='mt1 t-18 t-black t-normal']\").text\n",
    "# GET LOCATION\n",
    "country = browser.find_element_by_xpath(\"//li[@class='t-16 t-black t-normal inline-block']\").text\n",
    "# GET NUMBER OF CONNECTIONS\n",
    "no_of_connections = browser.find_element_by_xpath(\"//span[@class='t-16 t-black t-normal']\").text\n",
    "# GET DESCRIPTION\n",
    "try:\n",
    "    about_see_more_btn = browser.find_element_by_xpath(\"//a[@class='lt-line-clamp__more']\")\n",
    "    about_see_more_btn.click()\n",
    "    time.sleep(0.1)\n",
    "    about = browser.find_element_by_xpath(\"//span[@class='lt-line-clamp__raw-line']\").text\n",
    "except:\n",
    "    about = \"Nil\"\n",
    "if about == \"Nil\":\n",
    "    try:\n",
    "        about = browser.find_element_by_xpath(\"//span[@class='lt-line-clamp__line lt-line-clamp__line--last']\").text\n",
    "    except:\n",
    "        about = \"Nil\"\n",
    "\n",
    "print(name)\n",
    "print(headline)\n",
    "print(country)\n",
    "print(no_of_connections)\n",
    "print(about)"
   ]
  },
  {
   "cell_type": "code",
   "execution_count": 12,
   "metadata": {},
   "outputs": [],
   "source": [
    "# GET LIST OF EXPERIENCE\n",
    "experience_list = browser.find_elements_by_xpath(\"//ul[@class='pv-profile-section__section-info section-info pv-profile-section__section-info--has-no-more ember-view']/li\")"
   ]
  },
  {
   "cell_type": "code",
   "execution_count": 11,
   "metadata": {},
   "outputs": [],
   "source": [
    "for i in range(1, len(experience_list)+1):\n",
    "    if(browser.find_element_by_xpath(\"//ul[@class='pv-profile-section__section-info section-info pv-profile-section__section-info--has-no-more ember-view']/li\"+\"[\"+str(i)+\"]\").get_attribute('class') == 'result-card experience-item'):\n",
    "        title = browser.find_element_by_xpath(\"//ul[@class='experience__list']/li\"+\"[\"+str(i)+\"]/div/h3\").text\n",
    "        company = browser.find_element_by_xpath(\"//ul[@class='experience__list']/li\"+\"[\"+str(i)+\"]/div/h4/a\").text\n",
    "        start = browser.find_element_by_xpath(\"//ul[@class='experience__list']/li\"+\"[\"+str(i)+\"]/div/div/p/span/time[@class='date-range__start-date']\").text\n",
    "        try:\n",
    "            end = browser.find_element_by_xpath(\"//ul[@class='experience__list']/li\"+\"[\"+str(i)+\"]/div/div/p/span/time[@class='date-range__end-date']\").text\n",
    "        except:\n",
    "            end = \"Present\"\n",
    "        duration = start + \" - \" + end\n",
    "        #description = browser.find_element_by_xpath(\"//ul[@class='experience__list']/li\"+\"[\"+str(i)+\"]/div/div/div/div/span\").text\n",
    "        print(title)\n",
    "        print(company)\n",
    "        print(duration)\n",
    "        #print(description)\n",
    "        print(\"---------------------------\")\n",
    "    else:\n",
    "        number_of_titles = len(browser.find_elements_by_xpath(\"//ul[@class='experience__list']/li\"+\"[\"+str(i)+\"]/ul/li\"))\n",
    "        for j in range(1, number_of_titles+1):\n",
    "            title = browser.find_element_by_xpath(\"//ul[@class='experience__list']/li\"+\"[\"+str(i)+\"]/ul/li\"+\"[\"+str(j)+\"]/div/h3\").text\n",
    "            company = browser.find_element_by_xpath(\"//ul[@class='experience__list']/li\"+\"[\"+str(i)+\"]/ul/li\"+\"[\"+str(j)+\"]/a/img\").get_attribute('alt')\n",
    "            start = browser.find_element_by_xpath(\"//ul[@class='experience__list']/li\"+\"[\"+str(i)+\"]/ul/li\"+\"[\"+str(j)+\"]/div/div/p/span/time[@class='date-range__start-date']\").text\n",
    "            try:\n",
    "                end = browser.find_element_by_xpath(\"//ul[@class='experience__list']/li\"+\"[\"+str(i)+\"]/ul/li\"+\"[\"+str(j)+\"]/div/div/p/span/time[@class='date-range__end-date']\").text\n",
    "            except:\n",
    "                end = \"Present\"\n",
    "            duration = start + \" - \" + end\n",
    "            print(title)\n",
    "            print(company)\n",
    "            print(duration)\n",
    "            print(\"---------------------------\")"
   ]
  },
  {
   "cell_type": "code",
   "execution_count": 92,
   "metadata": {},
   "outputs": [],
   "source": [
    "# GET LIST OF EDUCATION\n",
    "education_list = browser.find_elements_by_xpath(\"//ul[@class='education__list']/li\")"
   ]
  },
  {
   "cell_type": "code",
   "execution_count": 93,
   "metadata": {},
   "outputs": [
    {
     "name": "stdout",
     "output_type": "stream",
     "text": [
      "Singapore Institute of Technology\n",
      "Bachelor of Engineering - BEng\n",
      "Telematics (Intelligent Transportation Systems)\n",
      "Currently Honours with Highest Distinction\n",
      "2017 - 2020\n",
      "-------------------------------\n",
      "Nanyang Technological University\n",
      "Undergraduate Professional Military Education and Training (UGPMET)\n",
      "Military Leadership and Military Studies\n",
      "Nil\n",
      "2018 - 2018\n",
      "-------------------------------\n",
      "Temasek Polytechnic\n",
      "Diploma\n",
      "Mechatronics, Robotics\n",
      "Nil\n",
      "2011 - 2014\n",
      "-------------------------------\n",
      "Ahmad Ibrahim Secondary School\n",
      "Nil\n",
      "Nil\n",
      "Nil\n",
      "2007 - 2010\n",
      "-------------------------------\n"
     ]
    }
   ],
   "source": [
    "for i in range(1, len(education_list)+1):\n",
    "    school = browser.find_element_by_xpath(\"//ul[@class='education__list']/li\"+\"[\"+str(i)+\"]/div/h3\").text\n",
    "    try:\n",
    "        education_title = browser.find_element_by_xpath(\"//ul[@class='education__list']/li\"+\"[\"+str(i)+\"]/div/h4/span[1]\").text\n",
    "    except:\n",
    "        education_title = \"Nil\"\n",
    "    try:\n",
    "        course = browser.find_element_by_xpath(\"//ul[@class='education__list']/li\"+\"[\"+str(i)+\"]/div/h4/span[2]\").text\n",
    "    except:\n",
    "        course = \"Nil\"\n",
    "    try:\n",
    "        grades = browser.find_element_by_xpath(\"//ul[@class='education__list']/li\"+\"[\"+str(i)+\"]/div/h4/span[3]\").text\n",
    "    except:\n",
    "        grades = \"Nil\"\n",
    "    start = browser.find_element_by_xpath(\"//ul[@class='education__list']/li\"+\"[\"+str(i)+\"]/div/div/p/span/time[@class='date-range__start-date']\").text\n",
    "    try:\n",
    "        end = browser.find_element_by_xpath(\"//ul[@class='education__list']/li\"+\"[\"+str(i)+\"]/div/div/p/span/time[@class='date-range__end-date']\").text\n",
    "    except:\n",
    "        end = \"Present\"\n",
    "    duration = start + \" - \" + end\n",
    "    print(school)\n",
    "    print(education_title)\n",
    "    print(course)\n",
    "    print(grades)\n",
    "    print(duration)\n",
    "    print(\"-------------------------------\")"
   ]
  },
  {
   "cell_type": "code",
   "execution_count": 52,
   "metadata": {},
   "outputs": [],
   "source": [
    "# SCROLL WHOLE PAGE\n",
    "body = browser.find_element_by_tag_name('html')\n",
    "body.send_keys(Keys.END)\n",
    "time.sleep(0.1)"
   ]
  },
  {
   "cell_type": "code",
   "execution_count": 63,
   "metadata": {},
   "outputs": [
    {
     "data": {
      "text/plain": [
       "3"
      ]
     },
     "execution_count": 63,
     "metadata": {},
     "output_type": "execute_result"
    }
   ],
   "source": [
    "# GET EXPERIENCES\n",
    "experience_see_more_btn = browser.find_element_by_xpath(\"//button[@class='pv-profile-section__see-more-inline pv-profile-section__text-truncate-toggle link link-without-hover-state']\")\n",
    "experience_see_more_btn.location_once_scrolled_into_view\n",
    "browser.execute_script(\"window.scrollTo(0, window.scrollY - 200)\")\n",
    "experience_see_more_btn.click()\n",
    "time.sleep(0.1)\n",
    "experience_list = browser.find_elements_by_xpath(\"//ul[@class='pv-profile-section__section-info section-info pv-profile-section__section-info--has-no-more ember-view']/li\")\n",
    "len(experience_list)"
   ]
  },
  {
   "cell_type": "code",
   "execution_count": 54,
   "metadata": {},
   "outputs": [
    {
     "ename": "NoSuchElementException",
     "evalue": "Message: no such element: Unable to locate element: {\"method\":\"xpath\",\"selector\":\"//ul[@class='pv-profile-section__section-info section-info pv-profile-section__section-info--has-no-more ember-view']/li[1]/div/li/div/div/a/div[2]/h3\"}\n  (Session info: chrome=77.0.3865.90)\n",
     "output_type": "error",
     "traceback": [
      "\u001b[1;31m---------------------------------------------------------------------------\u001b[0m",
      "\u001b[1;31mNoSuchElementException\u001b[0m                    Traceback (most recent call last)",
      "\u001b[1;32m<ipython-input-54-6b5118295a8d>\u001b[0m in \u001b[0;36m<module>\u001b[1;34m\u001b[0m\n\u001b[1;32m----> 1\u001b[1;33m \u001b[0mtitle\u001b[0m \u001b[1;33m=\u001b[0m \u001b[0mbrowser\u001b[0m\u001b[1;33m.\u001b[0m\u001b[0mfind_element_by_xpath\u001b[0m\u001b[1;33m(\u001b[0m\u001b[1;34m\"//ul[@class='pv-profile-section__section-info section-info pv-profile-section__section-info--has-no-more ember-view']/li[1]/div/li/div/div/a/div[2]/h3\"\u001b[0m\u001b[1;33m)\u001b[0m\u001b[1;33m.\u001b[0m\u001b[0mtext\u001b[0m\u001b[1;33m\u001b[0m\u001b[1;33m\u001b[0m\u001b[0m\n\u001b[0m\u001b[0;32m      2\u001b[0m \u001b[0mprint\u001b[0m\u001b[1;33m(\u001b[0m\u001b[0mtitle\u001b[0m\u001b[1;33m)\u001b[0m\u001b[1;33m\u001b[0m\u001b[1;33m\u001b[0m\u001b[0m\n\u001b[0;32m      3\u001b[0m \u001b[0mcompany\u001b[0m \u001b[1;33m=\u001b[0m \u001b[0mbrowser\u001b[0m\u001b[1;33m.\u001b[0m\u001b[0mfind_element_by_xpath\u001b[0m\u001b[1;33m(\u001b[0m\u001b[1;34m\"//ul[@class='pv-profile-section__section-info section-info pv-profile-section__section-info--has-no-more ember-view']/li[1]/div/li/div/div/a/div[2]/p[@class='pv-entity__secondary-title t-14 t-black t-normal']\"\u001b[0m\u001b[1;33m)\u001b[0m\u001b[1;33m.\u001b[0m\u001b[0mtext\u001b[0m\u001b[1;33m\u001b[0m\u001b[1;33m\u001b[0m\u001b[0m\n\u001b[0;32m      4\u001b[0m \u001b[0mprint\u001b[0m\u001b[1;33m(\u001b[0m\u001b[0mcompany\u001b[0m\u001b[1;33m)\u001b[0m\u001b[1;33m\u001b[0m\u001b[1;33m\u001b[0m\u001b[0m\n\u001b[0;32m      5\u001b[0m \u001b[0mduration_date\u001b[0m \u001b[1;33m=\u001b[0m \u001b[0mbrowser\u001b[0m\u001b[1;33m.\u001b[0m\u001b[0mfind_element_by_xpath\u001b[0m\u001b[1;33m(\u001b[0m\u001b[1;34m\"//ul[@class='pv-profile-section__section-info section-info pv-profile-section__section-info--has-no-more ember-view']/li[1]/div/li/div/div/a/div[2]/div/h4/span[2]\"\u001b[0m\u001b[1;33m)\u001b[0m\u001b[1;33m.\u001b[0m\u001b[0mtext\u001b[0m\u001b[1;33m\u001b[0m\u001b[1;33m\u001b[0m\u001b[0m\n",
      "\u001b[1;32m~\\Anaconda3\\lib\\site-packages\\selenium\\webdriver\\remote\\webdriver.py\u001b[0m in \u001b[0;36mfind_element_by_xpath\u001b[1;34m(self, xpath)\u001b[0m\n\u001b[0;32m    392\u001b[0m             \u001b[0melement\u001b[0m \u001b[1;33m=\u001b[0m \u001b[0mdriver\u001b[0m\u001b[1;33m.\u001b[0m\u001b[0mfind_element_by_xpath\u001b[0m\u001b[1;33m(\u001b[0m\u001b[1;34m'//div/td[1]'\u001b[0m\u001b[1;33m)\u001b[0m\u001b[1;33m\u001b[0m\u001b[1;33m\u001b[0m\u001b[0m\n\u001b[0;32m    393\u001b[0m         \"\"\"\n\u001b[1;32m--> 394\u001b[1;33m         \u001b[1;32mreturn\u001b[0m \u001b[0mself\u001b[0m\u001b[1;33m.\u001b[0m\u001b[0mfind_element\u001b[0m\u001b[1;33m(\u001b[0m\u001b[0mby\u001b[0m\u001b[1;33m=\u001b[0m\u001b[0mBy\u001b[0m\u001b[1;33m.\u001b[0m\u001b[0mXPATH\u001b[0m\u001b[1;33m,\u001b[0m \u001b[0mvalue\u001b[0m\u001b[1;33m=\u001b[0m\u001b[0mxpath\u001b[0m\u001b[1;33m)\u001b[0m\u001b[1;33m\u001b[0m\u001b[1;33m\u001b[0m\u001b[0m\n\u001b[0m\u001b[0;32m    395\u001b[0m \u001b[1;33m\u001b[0m\u001b[0m\n\u001b[0;32m    396\u001b[0m     \u001b[1;32mdef\u001b[0m \u001b[0mfind_elements_by_xpath\u001b[0m\u001b[1;33m(\u001b[0m\u001b[0mself\u001b[0m\u001b[1;33m,\u001b[0m \u001b[0mxpath\u001b[0m\u001b[1;33m)\u001b[0m\u001b[1;33m:\u001b[0m\u001b[1;33m\u001b[0m\u001b[1;33m\u001b[0m\u001b[0m\n",
      "\u001b[1;32m~\\Anaconda3\\lib\\site-packages\\selenium\\webdriver\\remote\\webdriver.py\u001b[0m in \u001b[0;36mfind_element\u001b[1;34m(self, by, value)\u001b[0m\n\u001b[0;32m    976\u001b[0m         return self.execute(Command.FIND_ELEMENT, {\n\u001b[0;32m    977\u001b[0m             \u001b[1;34m'using'\u001b[0m\u001b[1;33m:\u001b[0m \u001b[0mby\u001b[0m\u001b[1;33m,\u001b[0m\u001b[1;33m\u001b[0m\u001b[1;33m\u001b[0m\u001b[0m\n\u001b[1;32m--> 978\u001b[1;33m             'value': value})['value']\n\u001b[0m\u001b[0;32m    979\u001b[0m \u001b[1;33m\u001b[0m\u001b[0m\n\u001b[0;32m    980\u001b[0m     \u001b[1;32mdef\u001b[0m \u001b[0mfind_elements\u001b[0m\u001b[1;33m(\u001b[0m\u001b[0mself\u001b[0m\u001b[1;33m,\u001b[0m \u001b[0mby\u001b[0m\u001b[1;33m=\u001b[0m\u001b[0mBy\u001b[0m\u001b[1;33m.\u001b[0m\u001b[0mID\u001b[0m\u001b[1;33m,\u001b[0m \u001b[0mvalue\u001b[0m\u001b[1;33m=\u001b[0m\u001b[1;32mNone\u001b[0m\u001b[1;33m)\u001b[0m\u001b[1;33m:\u001b[0m\u001b[1;33m\u001b[0m\u001b[1;33m\u001b[0m\u001b[0m\n",
      "\u001b[1;32m~\\Anaconda3\\lib\\site-packages\\selenium\\webdriver\\remote\\webdriver.py\u001b[0m in \u001b[0;36mexecute\u001b[1;34m(self, driver_command, params)\u001b[0m\n\u001b[0;32m    319\u001b[0m         \u001b[0mresponse\u001b[0m \u001b[1;33m=\u001b[0m \u001b[0mself\u001b[0m\u001b[1;33m.\u001b[0m\u001b[0mcommand_executor\u001b[0m\u001b[1;33m.\u001b[0m\u001b[0mexecute\u001b[0m\u001b[1;33m(\u001b[0m\u001b[0mdriver_command\u001b[0m\u001b[1;33m,\u001b[0m \u001b[0mparams\u001b[0m\u001b[1;33m)\u001b[0m\u001b[1;33m\u001b[0m\u001b[1;33m\u001b[0m\u001b[0m\n\u001b[0;32m    320\u001b[0m         \u001b[1;32mif\u001b[0m \u001b[0mresponse\u001b[0m\u001b[1;33m:\u001b[0m\u001b[1;33m\u001b[0m\u001b[1;33m\u001b[0m\u001b[0m\n\u001b[1;32m--> 321\u001b[1;33m             \u001b[0mself\u001b[0m\u001b[1;33m.\u001b[0m\u001b[0merror_handler\u001b[0m\u001b[1;33m.\u001b[0m\u001b[0mcheck_response\u001b[0m\u001b[1;33m(\u001b[0m\u001b[0mresponse\u001b[0m\u001b[1;33m)\u001b[0m\u001b[1;33m\u001b[0m\u001b[1;33m\u001b[0m\u001b[0m\n\u001b[0m\u001b[0;32m    322\u001b[0m             response['value'] = self._unwrap_value(\n\u001b[0;32m    323\u001b[0m                 response.get('value', None))\n",
      "\u001b[1;32m~\\Anaconda3\\lib\\site-packages\\selenium\\webdriver\\remote\\errorhandler.py\u001b[0m in \u001b[0;36mcheck_response\u001b[1;34m(self, response)\u001b[0m\n\u001b[0;32m    240\u001b[0m                 \u001b[0malert_text\u001b[0m \u001b[1;33m=\u001b[0m \u001b[0mvalue\u001b[0m\u001b[1;33m[\u001b[0m\u001b[1;34m'alert'\u001b[0m\u001b[1;33m]\u001b[0m\u001b[1;33m.\u001b[0m\u001b[0mget\u001b[0m\u001b[1;33m(\u001b[0m\u001b[1;34m'text'\u001b[0m\u001b[1;33m)\u001b[0m\u001b[1;33m\u001b[0m\u001b[1;33m\u001b[0m\u001b[0m\n\u001b[0;32m    241\u001b[0m             \u001b[1;32mraise\u001b[0m \u001b[0mexception_class\u001b[0m\u001b[1;33m(\u001b[0m\u001b[0mmessage\u001b[0m\u001b[1;33m,\u001b[0m \u001b[0mscreen\u001b[0m\u001b[1;33m,\u001b[0m \u001b[0mstacktrace\u001b[0m\u001b[1;33m,\u001b[0m \u001b[0malert_text\u001b[0m\u001b[1;33m)\u001b[0m\u001b[1;33m\u001b[0m\u001b[1;33m\u001b[0m\u001b[0m\n\u001b[1;32m--> 242\u001b[1;33m         \u001b[1;32mraise\u001b[0m \u001b[0mexception_class\u001b[0m\u001b[1;33m(\u001b[0m\u001b[0mmessage\u001b[0m\u001b[1;33m,\u001b[0m \u001b[0mscreen\u001b[0m\u001b[1;33m,\u001b[0m \u001b[0mstacktrace\u001b[0m\u001b[1;33m)\u001b[0m\u001b[1;33m\u001b[0m\u001b[1;33m\u001b[0m\u001b[0m\n\u001b[0m\u001b[0;32m    243\u001b[0m \u001b[1;33m\u001b[0m\u001b[0m\n\u001b[0;32m    244\u001b[0m     \u001b[1;32mdef\u001b[0m \u001b[0m_value_or_default\u001b[0m\u001b[1;33m(\u001b[0m\u001b[0mself\u001b[0m\u001b[1;33m,\u001b[0m \u001b[0mobj\u001b[0m\u001b[1;33m,\u001b[0m \u001b[0mkey\u001b[0m\u001b[1;33m,\u001b[0m \u001b[0mdefault\u001b[0m\u001b[1;33m)\u001b[0m\u001b[1;33m:\u001b[0m\u001b[1;33m\u001b[0m\u001b[1;33m\u001b[0m\u001b[0m\n",
      "\u001b[1;31mNoSuchElementException\u001b[0m: Message: no such element: Unable to locate element: {\"method\":\"xpath\",\"selector\":\"//ul[@class='pv-profile-section__section-info section-info pv-profile-section__section-info--has-no-more ember-view']/li[1]/div/li/div/div/a/div[2]/h3\"}\n  (Session info: chrome=77.0.3865.90)\n"
     ]
    }
   ],
   "source": [
    "title = browser.find_element_by_xpath(\"//ul[@class='pv-profile-section__section-info section-info pv-profile-section__section-info--has-no-more ember-view']/li[1]/div/li/div/div/a/div[2]/h3\").text\n",
    "print(title)\n",
    "company = browser.find_element_by_xpath(\"//ul[@class='pv-profile-section__section-info section-info pv-profile-section__section-info--has-no-more ember-view']/li[1]/div/li/div/div/a/div[2]/p[@class='pv-entity__secondary-title t-14 t-black t-normal']\").text\n",
    "print(company)\n",
    "duration_date = browser.find_element_by_xpath(\"//ul[@class='pv-profile-section__section-info section-info pv-profile-section__section-info--has-no-more ember-view']/li[1]/div/li/div/div/a/div[2]/div/h4/span[2]\").text\n",
    "print(duration_date)\n",
    "duration_length = browser.find_element_by_xpath(\"//ul[@class='pv-profile-section__section-info section-info pv-profile-section__section-info--has-no-more ember-view']/li[1]/div/li/div/div/a/div[2]/div/h4[2]/span[2]\").text\n",
    "print(duration_length)\n",
    "description = browser.find_element_by_xpath(\"//ul[@class='pv-profile-section__section-info section-info pv-profile-section__section-info--has-no-more ember-view']/li[1]/div/li/div/div/div\").text\n",
    "print(description)"
   ]
  },
  {
   "cell_type": "code",
   "execution_count": 48,
   "metadata": {},
   "outputs": [],
   "source": [
    "number_of_titles = browser.find_elements_by_xpath(\"//ul[@class='pv-profile-section__section-info section-info pv-profile-section__section-info--has-no-more ember-view']/li[2]/div/li/ul/li\")\n",
    "len(number_of_titles)\n",
    "for i in range(1, len(number_of_titles)+1):\n",
    "    company = browser.find_element_by_xpath(\"//ul[@class='pv-profile-section__section-info section-info pv-profile-section__section-info--has-no-more ember-view']/li[2]/div/li/div/a/div/div[2]/h3/span[2]\").text\n",
    "    print(company)\n",
    "    title = browser.find_element_by_xpath(\"//ul[@class='pv-profile-section__section-info section-info pv-profile-section__section-info--has-no-more ember-view']/li[2]/div/li/ul/li[\"+str(i)+\"]/div/div/div/div/div/div/h3/span[2]\").text\n",
    "    print(title)\n",
    "    duration_date = browser.find_element_by_xpath(\"//ul[@class='pv-profile-section__section-info section-info pv-profile-section__section-info--has-no-more ember-view']/li[2]/div/li/ul/li[\"+str(i)+\"]/div/div/div/div/div/div/div/h4/span[2]\").text\n",
    "    print(duration_date)\n",
    "    duration_length = browser.find_element_by_xpath(\"//ul[@class='pv-profile-section__section-info section-info pv-profile-section__section-info--has-no-more ember-view']/li[2]/div/li/ul/li[\"+str(i)+\"]/div/div/div/div/div/div/div/h4[2]/span[2]\").text\n",
    "    print(duration_length)"
   ]
  },
  {
   "cell_type": "code",
   "execution_count": null,
   "metadata": {},
   "outputs": [],
   "source": []
  }
 ],
 "metadata": {
  "kernelspec": {
   "display_name": "Python 3",
   "language": "python",
   "name": "python3"
  },
  "language_info": {
   "codemirror_mode": {
    "name": "ipython",
    "version": 3
   },
   "file_extension": ".py",
   "mimetype": "text/x-python",
   "name": "python",
   "nbconvert_exporter": "python",
   "pygments_lexer": "ipython3",
   "version": "3.6.8"
  }
 },
 "nbformat": 4,
 "nbformat_minor": 2
}
