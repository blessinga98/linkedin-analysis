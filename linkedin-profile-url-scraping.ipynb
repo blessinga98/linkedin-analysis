{
 "cells": [
  {
   "cell_type": "code",
   "execution_count": 10,
   "metadata": {},
   "outputs": [],
   "source": [
    "from selenium import webdriver\n",
    "from selenium.webdriver.common.keys import Keys\n",
    "import time"
   ]
  },
  {
   "cell_type": "code",
   "execution_count": 19,
   "metadata": {},
   "outputs": [],
   "source": [
    "# OPEN CHROME BROWSER\n",
    "browser = webdriver.Chrome()"
   ]
  },
  {
   "cell_type": "code",
   "execution_count": 20,
   "metadata": {},
   "outputs": [],
   "source": [
    "# GO TO URL\n",
    "browser.get(\"https://www.google.com\")"
   ]
  },
  {
   "cell_type": "code",
   "execution_count": 21,
   "metadata": {},
   "outputs": [],
   "source": [
    "# SEARCH PROFILES\n",
    "position_title = \"data scientist\" # Targeted job position\n",
    "location = \"Singapore\" # Targeted location\n",
    "\n",
    "# Get location of search box\n",
    "search_box = browser.find_element_by_xpath(\"//input[@class='gLFyf gsfi']\")\n",
    "# Type in search query\n",
    "search_box.send_keys('site:linkedin.com/in/ AND \"' + position_title + '\" AND \"' + location + '\"' )\n",
    "# Enter button\n",
    "search_box.send_keys(Keys.RETURN)"
   ]
  },
  {
   "cell_type": "code",
   "execution_count": 22,
   "metadata": {},
   "outputs": [],
   "source": [
    "# RETREIVE PROFILE LINKS\n",
    "# Each search page only return 10 results\n",
    "\n",
    "end_of_search = False # Flag to search till no results\n",
    "all_urls = []\n",
    "\n",
    "while(not end_of_search):\n",
    "    try:\n",
    "        time.sleep(0.1)\n",
    "        # Get 10 profile urls from page\n",
    "        profile_urls = browser.find_elements_by_xpath(\"//div[@class='r']/a\")\n",
    "        # Append profile urls into a common list\n",
    "        for url in profile_urls:\n",
    "            all_urls.append(url.get_attribute(\"href\"))\n",
    "        # Click next page button\n",
    "        next_btn = browser.find_element_by_xpath(\"//a[@id='pnnext']\")\n",
    "        next_btn.click()       \n",
    "    except:\n",
    "        end_of_search = True"
   ]
  },
  {
   "cell_type": "code",
   "execution_count": 25,
   "metadata": {},
   "outputs": [
    {
     "name": "stdout",
     "output_type": "stream",
     "text": [
      "Number of URLs:  294\n",
      "\n",
      "https://sg.linkedin.com/in/william-tjhi-353a0840\n",
      "https://sg.linkedin.com/in/rishu-raj-ba451878\n",
      "https://sg.linkedin.com/in/joannechiew\n",
      "https://sg.linkedin.com/in/suriya-narayanan-09338984\n",
      "https://sg.linkedin.com/in/yuanjunsg\n"
     ]
    }
   ],
   "source": [
    "# VIEW URLS INFORMATION\n",
    "\n",
    "print(\"Number of URLs: \", len(all_urls))\n",
    "print(\"\")\n",
    "for url in all_urls[:5]:\n",
    "    print(url)"
   ]
  },
  {
   "cell_type": "code",
   "execution_count": 26,
   "metadata": {},
   "outputs": [],
   "source": [
    "# STORE URLS INTO A FILE\n",
    "\n",
    "f = open(\"linkedin_profile_urls.txt\", \"a\")\n",
    "for url in all_urls:\n",
    "    f.write(\"%s\\n\" %url)"
   ]
  }
 ],
 "metadata": {
  "kernelspec": {
   "display_name": "Python 3",
   "language": "python",
   "name": "python3"
  },
  "language_info": {
   "codemirror_mode": {
    "name": "ipython",
    "version": 3
   },
   "file_extension": ".py",
   "mimetype": "text/x-python",
   "name": "python",
   "nbconvert_exporter": "python",
   "pygments_lexer": "ipython3",
   "version": "3.6.8"
  }
 },
 "nbformat": 4,
 "nbformat_minor": 2
}
